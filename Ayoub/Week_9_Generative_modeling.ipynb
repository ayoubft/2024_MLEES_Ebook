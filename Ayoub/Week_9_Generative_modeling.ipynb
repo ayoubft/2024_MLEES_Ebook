{
 "cells": [
  {
   "cell_type": "markdown",
   "id": "298f237f-062c-4610-9100-7b62fb7df543",
   "metadata": {},
   "source": [
    "# Exercise `X`: using a denoising autoencoder to pretrain an image classifier."
   ]
  },
  {
   "cell_type": "markdown",
   "id": "9b19d0ad-ed74-465f-ab1e-279c24f3c960",
   "metadata": {},
   "source": [
    "![](https://upload.wikimedia.org/wikipedia/commons/thumb/6/69/Th%C3%A9%C3%A2tre_D%E2%80%99op%C3%A9ra_Spatial.png/920px-Th%C3%A9%C3%A2tre_D%E2%80%99op%C3%A9ra_Spatial.png)\n",
    "\n",
    "Théâtre D'opéra Spatial, 2022 artwork created by Jason M. Allen with Midjourney"
   ]
  }
 ],
 "metadata": {
  "kernelspec": {
   "display_name": "Python 3 (ipykernel)",
   "language": "python",
   "name": "python3"
  },
  "language_info": {
   "codemirror_mode": {
    "name": "ipython",
    "version": 3
   },
   "file_extension": ".py",
   "mimetype": "text/x-python",
   "name": "python",
   "nbconvert_exporter": "python",
   "pygments_lexer": "ipython3",
   "version": "3.11.0"
  }
 },
 "nbformat": 4,
 "nbformat_minor": 5
}
