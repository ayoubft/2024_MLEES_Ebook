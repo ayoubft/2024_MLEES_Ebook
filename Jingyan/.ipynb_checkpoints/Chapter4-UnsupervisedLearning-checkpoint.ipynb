{
 "cells": [
  {
   "cell_type": "markdown",
   "id": "18399c6d",
   "metadata": {},
   "source": [
    "# Unsupervised Learning for Clustering and Dimensionality Reduction"
   ]
  },
  {
   "cell_type": "markdown",
   "id": "00947fe5",
   "metadata": {},
   "source": [
    "## Learning objectives:\n",
    "1. Distinguish supervised from **unsupervised learning**\n",
    "2. Understand the necessity of **reducing dimensionality** for big datasets\n",
    "    * Know at least two approaches for dimensionality reduction\n",
    "    * Understand the steps of PCA\n",
    "3. \tDistinguish **clustering** from supervised classification\n",
    "    * Know how to implement the Kmeans algorithm and select the number of clusters\n",
    "    * Know how to implement Gaussian mixture models and how to detect anomalies"
   ]
  },
  {
   "cell_type": "markdown",
   "id": "4541bfd5",
   "metadata": {},
   "source": [
    "### Unsupervised Learning (UL) v.s Supervised Learning (SL)\n",
    "\n",
    "* **UL** is a type of machine learning where the model is trained on a dataset **without** explicit supervision - no **labeled output data**. \n",
    "* Unlike **SL**, where the algorithm learns from labeled examples to make predictions or classifications; \n",
    "* UL aims to uncover **patterns**, **groupings**, **inherent structures**, or **representations** in the data, \n",
    "* Often through techniques like **clustering**, **dimensionality reduction**, and **density estimation**. \n",
    "* UL is particularly useful for exploring and gaining insights from data when the specific output categories or labels are unknown or not available."
   ]
  },
  {
   "cell_type": "markdown",
   "id": "82eaca44",
   "metadata": {},
   "source": [
    "### Dimension Reduction\n",
    "\n",
    "#### The Curse of Dimensionality\n",
    "* **High dimensional datasets** are likely very **sparse**, with training instances **far away from each other**, which increases the risk of **overfitting**.\n",
    "\n",
    "#### Main Methods for Dimension Reduction\n",
    "* **Projection Methods**:Map high-dimensional data to lower dimensions while preserving features, e.g. PCA\n",
    "* **Manifold Learning**: Captures underlying data structure for nonlinear relationships, e.g. t-SNE, LLE\n",
    "\n",
    "#### Principal Component Analysis (PCA)\n",
    "* PCA identifies **orthogonal axes** (principal components) that **maximize variance** in the data. It **projects** the data onto these components, effectively reducing dimensionality."
   ]
  },
  {
   "cell_type": "markdown",
   "id": "593a23a8",
   "metadata": {},
   "source": [
    "### Clustering\n",
    "#### Clustering v.s Classification\n",
    "* **Clustering** groups data into clusters based on similarities, **without predefined labels**. **Classification** classifies data into predefined categories **using labeled examples**. Clustering discovers patterns and relationships, while classification predicts labels based on known outcomes.\n",
    "\n",
    "#### K-means clustering\n",
    "* K-means clustering **divides data into K clusters** by minimizing the sum of squared distances between points and cluster centroids. It **iteratively assigns points to the nearest centroid** and updates centroids. \n",
    "* **K-Means Clustering Steps**:\n",
    "\n",
    "    1. **Initialization**: Randomly select K initial centroids.\n",
    "    2. **Assignment**: Assign each point to the nearest centroid.\n",
    "    3. **Update Centroids**: Recalculate centroids based on cluster points.\n",
    "    4. **Reassignment**: Repeat steps 2 and 3 until convergence.\n",
    "    5. **Convergence**: Stop when centroids stabilize or after a set number of iterations.\n",
    "    6. **Clusters**: Resulting centroids define distinct clusters in the data.\n",
    "\n",
    "#### Gaussian mixture models (GMM)\n",
    "* GMM is a probabilistic model for **representing data** as a **mixture** of several **Gaussian distributions*8. \n",
    "* GMM helps anomaly detection by modeling **normal data distribution**. Anomalies are identified as data points with **low probability** under the GMM, serving as outliers."
   ]
  },
  {
   "cell_type": "markdown",
   "id": "92137447",
   "metadata": {},
   "source": [
    "## Exercise 1: Dimensionality Reduction\n",
    "\n",
    "Does PCA always reduce model training time and increase model performance?\n",
    "\n",
    "1. Load the MNIST dataset and split it into a training set and a test set;\n",
    "2. Train a Random Forest classifier on the dataset,  \n",
    "    Time how long it takes,   \n",
    "    Evaluate the resulting model on the test set.\n",
    "3. Train a Logistic Regression classifier on the dataset,  \n",
    "    Time how long it takes,   \n",
    "    Evaluate the resulting model on the test set.\n",
    "3. Use PCA to reduce the dataset's dimensionality, with an explained variance ratio of 95%.\n",
    "4. Train a new Random Forest classifier on the reduced dataset. Was training much faster? Was the performance better?\n",
    "5. Train a new Logistic Regression classifier on the reduced dataset. Was training much faster? Was the performance better?"
   ]
  },
  {
   "cell_type": "markdown",
   "id": "f473311f",
   "metadata": {},
   "source": [
    "## Exercise 2:  Clustering\n",
    "\n",
    "How to choose the number of clusters when using K-means?\n",
    "\n",
    "1. Load the MNIST dataset;\n",
    "2. Time one K-Means training;\n",
    "3. Use PCA for dimension reduction;\n",
    "4. Train K-Means with multiple ks;\n",
    "5. Calculate the performance of different k - silhouette score;\n",
    "6. Visualize silhouette score & inertia against k;\n",
    "7. Visualize clusters. "
   ]
  },
  {
   "cell_type": "markdown",
   "id": "abfb9c6a",
   "metadata": {},
   "source": [
    "## Exercise 3: Application to Dynamical Regime Identification - Tracking the impact of global Heating on Ocean Regimes (THOR)\n",
    "\n",
    "### Reading: Transparent Machine learning (ML) method that explains the governing mechanisms of the North Atlantic Meridional Overturning Circulation (AMOC) called Tracking global Heating with Ocean Regimes (THOR).\n",
    "* Transparent ML\n",
    "* Dynamics contributing to AMOC changes under a global heating model\n",
    "\n",
    "### Exercise: Step1 of THOR - Identify 2D dynamical regimes\n",
    "1. Data\n",
    "    * Reduced to 5 dimensions: (1) curlA; (2) curlB, (3) curlTau, (4)curlCori, (5) BPT,\n",
    "    * i.e., with shape (360, 720, 5) - 5 layers of 720x360 images, each pixel/cell has 5 features;\n",
    "    * pixels/cells to be clustered into groups based on these features.\n",
    "2. Use Xarray to format data.\n",
    "3. Use K-Means to cluster the 5D training data;\n",
    "4. Visualize identified clusters."
   ]
  }
 ],
 "metadata": {
  "kernelspec": {
   "display_name": "Python 3 (ipykernel)",
   "language": "python",
   "name": "python3"
  },
  "language_info": {
   "codemirror_mode": {
    "name": "ipython",
    "version": 3
   },
   "file_extension": ".py",
   "mimetype": "text/x-python",
   "name": "python",
   "nbconvert_exporter": "python",
   "pygments_lexer": "ipython3",
   "version": "3.9.7"
  }
 },
 "nbformat": 4,
 "nbformat_minor": 5
}
